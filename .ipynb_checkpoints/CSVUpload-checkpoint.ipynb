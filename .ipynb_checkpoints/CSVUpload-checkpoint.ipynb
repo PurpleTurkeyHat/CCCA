{
 "cells": [
  {
   "cell_type": "code",
   "execution_count": 12,
   "metadata": {},
   "outputs": [
    {
     "name": "stdout",
     "output_type": "stream",
     "text": [
      "········\n"
     ]
    }
   ],
   "source": [
    "from arcgis import GIS;\n",
    "import getpass;\n",
    "\n",
    "gis = GIS(\"https://www.arcgis.com\",\"Huckles\",getpass.getpass())"
   ]
  },
  {
   "cell_type": "code",
   "execution_count": 13,
   "metadata": {
    "collapsed": true
   },
   "outputs": [],
   "source": [
    "import shapefile, csv;\n",
    "import zipfile;\n",
    "\n",
    "trees_shp = shapefile.Writer(shapefile.POINT)\n",
    "trees_shp.autoBalance = 1\n",
    "trees_shp.field(\"id\", \"C\")\n",
    "trees_shp.field(\"text\", \"C\")\n",
    "\n",
    "counter = 1\n",
    "\n",
    "with open('./output.txt', 'r') as csvfile:\n",
    " reader = csv.reader(csvfile, delimiter=',')\n",
    " next(reader, None)\n",
    " for row in reader:\n",
    "     id = row[2];\n",
    "     text = row[3];\n",
    "     lat = row[1];\n",
    "     long = row[0];\n",
    "     trees_shp.point(float(long),float(lat))\n",
    "     trees_shp.record(id, text)\n",
    " trees_shp.save(\"./mygeodata\")\n",
    "\n",
    "with zipfile.ZipFile('mygeodata2.zip', 'w') as myzip:\n",
    "    myzip.write('mygeodata.dbf')\n",
    "    myzip.write('mygeodata.shp')\n",
    "    myzip.write('mygeodata.shx')"
   ]
  },
  {
   "cell_type": "code",
   "execution_count": 19,
   "metadata": {},
   "outputs": [],
   "source": [
    "import arcgis;\n",
    "parks_properties = {'title': 'Twitter Disaster Info',\n",
    "                'tags':'TAMUHack',\n",
    "                'type':'Shapefile'}\n",
    "#parks_shp = gis.content.add(parks_properties,\n",
    "#                data='./mygeodata.zip')\n",
    "\n",
    "feat = arcgis.features.managers.FeatureLayerCollectionManager('https://services8.arcgis.com/v9RrsHPyQp0yVjsL/arcgis/rest/services/mygeodata/FeatureServer',gis=gis);\n",
    "feat.overwrite('./mygeodata2.zip');"
   ]
  },
  {
   "cell_type": "code",
   "execution_count": 15,
   "metadata": {},
   "outputs": [
    {
     "data": {
      "text/html": [
       "<div class=\"item_container\" style=\"height: auto; overflow: hidden; border: 1px solid #cfcfcf; border-radius: 2px; background: #f6fafa; line-height: 1.21429em; padding: 10px;\">\n",
       "                    <div class=\"item_left\" style=\"width: 210px; float: left;\">\n",
       "                       <a href='https://nhuck.maps.arcgis.com/home/item.html?id=d3177dd81628428d9e27572de0ecb02a' target='_blank'>\n",
       "                        <img src='http://static.arcgis.com/images/desktopapp.png' class=\"itemThumbnail\">\n",
       "                       </a>\n",
       "                    </div>\n",
       "\n",
       "                    <div class=\"item_right\"     style=\"float: none; width: auto; overflow: hidden;\">\n",
       "                        <a href='https://nhuck.maps.arcgis.com/home/item.html?id=d3177dd81628428d9e27572de0ecb02a' target='_blank'><b>Twitter Disaster Info</b>\n",
       "                        </a>\n",
       "                        <br/><img src='https://nhuck.maps.arcgis.com/home/js/jsapi/esri/css/images/item_type_icons/datafiles16.png' style=\"vertical-align:middle;\">Shapefile by Huckles\n",
       "                        <br/>Last Modified: January 30, 2018\n",
       "                        <br/>0 comments, 0 views\n",
       "                    </div>\n",
       "                </div>\n",
       "                "
      ],
      "text/plain": [
       "<Item title:\"Twitter Disaster Info\" type:Shapefile owner:Huckles>"
      ]
     },
     "execution_count": 15,
     "metadata": {},
     "output_type": "execute_result"
    }
   ],
   "source": [
    "#parks_shp"
   ]
  },
  {
   "cell_type": "code",
   "execution_count": 16,
   "metadata": {},
   "outputs": [],
   "source": [
    "#parks_feature_layer = parks_shp.publish()"
   ]
  },
  {
   "cell_type": "code",
   "execution_count": 17,
   "metadata": {},
   "outputs": [
    {
     "data": {
      "text/html": [
       "<div class=\"item_container\" style=\"height: auto; overflow: hidden; border: 1px solid #cfcfcf; border-radius: 2px; background: #f6fafa; line-height: 1.21429em; padding: 10px;\">\n",
       "                    <div class=\"item_left\" style=\"width: 210px; float: left;\">\n",
       "                       <a href='https://nhuck.maps.arcgis.com/home/item.html?id=0812e7cc9bb74adb98fa0f9170590d2b' target='_blank'>\n",
       "                        <img src='http://static.arcgis.com/images/desktopapp.png' class=\"itemThumbnail\">\n",
       "                       </a>\n",
       "                    </div>\n",
       "\n",
       "                    <div class=\"item_right\"     style=\"float: none; width: auto; overflow: hidden;\">\n",
       "                        <a href='https://nhuck.maps.arcgis.com/home/item.html?id=0812e7cc9bb74adb98fa0f9170590d2b' target='_blank'><b>Twitter Disaster Info</b>\n",
       "                        </a>\n",
       "                        <br/><img src='https://nhuck.maps.arcgis.com/home/js/jsapi/esri/css/images/item_type_icons/featureshosted16.png' style=\"vertical-align:middle;\">Feature Layer Collection by Huckles\n",
       "                        <br/>Last Modified: January 30, 2018\n",
       "                        <br/>0 comments, 0 views\n",
       "                    </div>\n",
       "                </div>\n",
       "                "
      ],
      "text/plain": [
       "<Item title:\"Twitter Disaster Info\" type:Feature Layer Collection owner:Huckles>"
      ]
     },
     "execution_count": 17,
     "metadata": {},
     "output_type": "execute_result"
    }
   ],
   "source": [
    "#parks_feature_layer"
   ]
  },
  {
   "cell_type": "code",
   "execution_count": 18,
   "metadata": {},
   "outputs": [
    {
     "data": {
      "text/plain": [
       "'https://services8.arcgis.com/v9RrsHPyQp0yVjsL/arcgis/rest/services/mygeodata/FeatureServer'"
      ]
     },
     "execution_count": 18,
     "metadata": {},
     "output_type": "execute_result"
    }
   ],
   "source": [
    "#parks_feature_layer.url"
   ]
  },
  {
   "cell_type": "code",
   "execution_count": null,
   "metadata": {
    "collapsed": true
   },
   "outputs": [],
   "source": []
  }
 ],
 "metadata": {
  "kernelspec": {
   "display_name": "Python 3",
   "language": "python",
   "name": "python3"
  },
  "language_info": {
   "codemirror_mode": {
    "name": "ipython",
    "version": 3
   },
   "file_extension": ".py",
   "mimetype": "text/x-python",
   "name": "python",
   "nbconvert_exporter": "python",
   "pygments_lexer": "ipython3",
   "version": "3.6.3"
  }
 },
 "nbformat": 4,
 "nbformat_minor": 2
}
